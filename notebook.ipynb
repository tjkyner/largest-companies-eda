{
 "cells": [
  {
   "cell_type": "markdown",
   "metadata": {},
   "source": [
    "# Overview\n",
    "This notebook represents my submission for the task on \"[The World's Biggest Companies 2021](https://www.kaggle.com/berkayalan/the-worlds-biggest-companies-2021)\" dataset. The description of the task is simply:\n",
    "> Create an EDA and show breakdowns of companies\n",
    "\n",
    "The [original source](https://www.forbes.com/lists/global2000/#242cc9bb5ac0) of the dataset is from Forbes, which ranks each of the companies according to the following equally-weighted metrics:\n",
    "- Sales\n",
    "- Profit\n",
    "- Assets\n",
    "- Market Value\n",
    "\n",
    "Let's dive in!"
   ]
  },
  {
   "cell_type": "markdown",
   "metadata": {},
   "source": [
    "# Imports & Settings"
   ]
  },
  {
   "cell_type": "code",
   "execution_count": 1,
   "metadata": {
    "execution": {
     "iopub.execute_input": "2021-08-11T17:20:54.796132Z",
     "iopub.status.busy": "2021-08-11T17:20:54.796132Z",
     "iopub.status.idle": "2021-08-11T17:20:55.847565Z",
     "shell.execute_reply": "2021-08-11T17:20:55.847565Z",
     "shell.execute_reply.started": "2021-08-11T17:20:54.796132Z"
    }
   },
   "outputs": [],
   "source": [
    "# Standard imports\n",
    "import numpy as np\n",
    "import pandas as pd\n",
    "\n",
    "# Visualization tools\n",
    "import seaborn as sns\n",
    "import matplotlib.pyplot as plt\n",
    "%matplotlib inline"
   ]
  },
  {
   "cell_type": "code",
   "execution_count": 2,
   "metadata": {
    "execution": {
     "iopub.execute_input": "2021-08-11T17:20:55.850535Z",
     "iopub.status.busy": "2021-08-11T17:20:55.850535Z",
     "iopub.status.idle": "2021-08-11T17:20:55.864535Z",
     "shell.execute_reply": "2021-08-11T17:20:55.863534Z",
     "shell.execute_reply.started": "2021-08-11T17:20:55.850535Z"
    }
   },
   "outputs": [],
   "source": [
    "sns.set_theme(style='darkgrid')"
   ]
  },
  {
   "cell_type": "markdown",
   "metadata": {},
   "source": [
    "# Preprocessing\n",
    "## Previewing Data"
   ]
  },
  {
   "cell_type": "code",
   "execution_count": 3,
   "metadata": {
    "execution": {
     "iopub.execute_input": "2021-08-11T17:20:55.865564Z",
     "iopub.status.busy": "2021-08-11T17:20:55.864535Z",
     "iopub.status.idle": "2021-08-11T17:20:55.895565Z",
     "shell.execute_reply": "2021-08-11T17:20:55.895565Z",
     "shell.execute_reply.started": "2021-08-11T17:20:55.864535Z"
    }
   },
   "outputs": [
    {
     "data": {
      "text/html": [
       "<div>\n",
       "<style scoped>\n",
       "    .dataframe tbody tr th:only-of-type {\n",
       "        vertical-align: middle;\n",
       "    }\n",
       "\n",
       "    .dataframe tbody tr th {\n",
       "        vertical-align: top;\n",
       "    }\n",
       "\n",
       "    .dataframe thead th {\n",
       "        text-align: right;\n",
       "    }\n",
       "</style>\n",
       "<table border=\"1\" class=\"dataframe\">\n",
       "  <thead>\n",
       "    <tr style=\"text-align: right;\">\n",
       "      <th></th>\n",
       "      <th>Rank</th>\n",
       "      <th>Name</th>\n",
       "      <th>Country</th>\n",
       "      <th>Sales</th>\n",
       "      <th>Profit</th>\n",
       "      <th>Assets</th>\n",
       "      <th>Market Value</th>\n",
       "    </tr>\n",
       "  </thead>\n",
       "  <tbody>\n",
       "    <tr>\n",
       "      <th>495</th>\n",
       "      <td>496</td>\n",
       "      <td>CSL</td>\n",
       "      <td>Australia</td>\n",
       "      <td>$9.9 B</td>\n",
       "      <td>$2.6 B</td>\n",
       "      <td>$17.7 B</td>\n",
       "      <td>$94.7 B</td>\n",
       "    </tr>\n",
       "    <tr>\n",
       "      <th>496</th>\n",
       "      <td>497</td>\n",
       "      <td>Safran</td>\n",
       "      <td>France</td>\n",
       "      <td>$19 B</td>\n",
       "      <td>$401.3 M</td>\n",
       "      <td>$48.4 B</td>\n",
       "      <td>$66.8 B</td>\n",
       "    </tr>\n",
       "    <tr>\n",
       "      <th>497</th>\n",
       "      <td>498</td>\n",
       "      <td>Banorte</td>\n",
       "      <td>Mexico</td>\n",
       "      <td>$9.4 B</td>\n",
       "      <td>$1.4 B</td>\n",
       "      <td>$89.7 B</td>\n",
       "      <td>$17.6 B</td>\n",
       "    </tr>\n",
       "    <tr>\n",
       "      <th>498</th>\n",
       "      <td>498</td>\n",
       "      <td>KeyCorp</td>\n",
       "      <td>United States</td>\n",
       "      <td>$7.3 B</td>\n",
       "      <td>$1.3 B</td>\n",
       "      <td>$170.3 B</td>\n",
       "      <td>$20 B</td>\n",
       "    </tr>\n",
       "    <tr>\n",
       "      <th>499</th>\n",
       "      <td>500</td>\n",
       "      <td>Lufax Holding</td>\n",
       "      <td>China</td>\n",
       "      <td>$8.3 B</td>\n",
       "      <td>$1.8 B</td>\n",
       "      <td>$38.1 B</td>\n",
       "      <td>$34 B</td>\n",
       "    </tr>\n",
       "  </tbody>\n",
       "</table>\n",
       "</div>"
      ],
      "text/plain": [
       "     Rank           Name        Country   Sales    Profit    Assets  \\\n",
       "495   496            CSL      Australia  $9.9 B    $2.6 B   $17.7 B   \n",
       "496   497         Safran         France   $19 B  $401.3 M   $48.4 B   \n",
       "497   498        Banorte         Mexico  $9.4 B    $1.4 B   $89.7 B   \n",
       "498   498        KeyCorp  United States  $7.3 B    $1.3 B  $170.3 B   \n",
       "499   500  Lufax Holding          China  $8.3 B    $1.8 B   $38.1 B   \n",
       "\n",
       "    Market Value  \n",
       "495      $94.7 B  \n",
       "496      $66.8 B  \n",
       "497      $17.6 B  \n",
       "498        $20 B  \n",
       "499        $34 B  "
      ]
     },
     "execution_count": 3,
     "metadata": {},
     "output_type": "execute_result"
    }
   ],
   "source": [
    "df = pd.read_csv('data.csv', delimiter=';')\n",
    "df.tail()"
   ]
  },
  {
   "cell_type": "code",
   "execution_count": 4,
   "metadata": {
    "execution": {
     "iopub.execute_input": "2021-08-11T17:20:55.896536Z",
     "iopub.status.busy": "2021-08-11T17:20:55.896536Z",
     "iopub.status.idle": "2021-08-11T17:20:55.912570Z",
     "shell.execute_reply": "2021-08-11T17:20:55.911569Z",
     "shell.execute_reply.started": "2021-08-11T17:20:55.896536Z"
    }
   },
   "outputs": [
    {
     "name": "stdout",
     "output_type": "stream",
     "text": [
      "<class 'pandas.core.frame.DataFrame'>\n",
      "RangeIndex: 500 entries, 0 to 499\n",
      "Data columns (total 7 columns):\n",
      " #   Column        Non-Null Count  Dtype \n",
      "---  ------        --------------  ----- \n",
      " 0   Rank          500 non-null    int64 \n",
      " 1   Name          500 non-null    object\n",
      " 2   Country       500 non-null    object\n",
      " 3   Sales         500 non-null    object\n",
      " 4   Profit        500 non-null    object\n",
      " 5   Assets        500 non-null    object\n",
      " 6   Market Value  500 non-null    object\n",
      "dtypes: int64(1), object(6)\n",
      "memory usage: 27.5+ KB\n"
     ]
    }
   ],
   "source": [
    "df.info()"
   ]
  },
  {
   "cell_type": "code",
   "execution_count": 5,
   "metadata": {
    "execution": {
     "iopub.execute_input": "2021-08-11T17:20:55.913535Z",
     "iopub.status.busy": "2021-08-11T17:20:55.912570Z",
     "iopub.status.idle": "2021-08-11T17:20:55.927570Z",
     "shell.execute_reply": "2021-08-11T17:20:55.927570Z",
     "shell.execute_reply.started": "2021-08-11T17:20:55.913535Z"
    },
    "tags": []
   },
   "outputs": [
    {
     "data": {
      "text/plain": [
       "Rank            0\n",
       "Name            0\n",
       "Country         0\n",
       "Sales           0\n",
       "Profit          0\n",
       "Assets          0\n",
       "Market Value    0\n",
       "dtype: int64"
      ]
     },
     "execution_count": 5,
     "metadata": {},
     "output_type": "execute_result"
    }
   ],
   "source": [
    "df.isna().sum()"
   ]
  },
  {
   "cell_type": "markdown",
   "metadata": {},
   "source": [
    "## Setting Index to Rank"
   ]
  },
  {
   "cell_type": "code",
   "execution_count": 6,
   "metadata": {
    "execution": {
     "iopub.execute_input": "2021-08-11T17:20:55.929536Z",
     "iopub.status.busy": "2021-08-11T17:20:55.929536Z",
     "iopub.status.idle": "2021-08-11T17:20:55.960534Z",
     "shell.execute_reply": "2021-08-11T17:20:55.959590Z",
     "shell.execute_reply.started": "2021-08-11T17:20:55.929536Z"
    },
    "tags": []
   },
   "outputs": [
    {
     "data": {
      "text/html": [
       "<div>\n",
       "<style scoped>\n",
       "    .dataframe tbody tr th:only-of-type {\n",
       "        vertical-align: middle;\n",
       "    }\n",
       "\n",
       "    .dataframe tbody tr th {\n",
       "        vertical-align: top;\n",
       "    }\n",
       "\n",
       "    .dataframe thead th {\n",
       "        text-align: right;\n",
       "    }\n",
       "</style>\n",
       "<table border=\"1\" class=\"dataframe\">\n",
       "  <thead>\n",
       "    <tr style=\"text-align: right;\">\n",
       "      <th></th>\n",
       "      <th>Name</th>\n",
       "      <th>Country</th>\n",
       "      <th>Sales</th>\n",
       "      <th>Profit</th>\n",
       "      <th>Assets</th>\n",
       "      <th>Market Value</th>\n",
       "    </tr>\n",
       "    <tr>\n",
       "      <th>Rank</th>\n",
       "      <th></th>\n",
       "      <th></th>\n",
       "      <th></th>\n",
       "      <th></th>\n",
       "      <th></th>\n",
       "      <th></th>\n",
       "    </tr>\n",
       "  </thead>\n",
       "  <tbody>\n",
       "    <tr>\n",
       "      <th>1</th>\n",
       "      <td>ICBC</td>\n",
       "      <td>China</td>\n",
       "      <td>$190.5 B</td>\n",
       "      <td>$45.8 B</td>\n",
       "      <td>$4,914.7 B</td>\n",
       "      <td>$249.5 B</td>\n",
       "    </tr>\n",
       "    <tr>\n",
       "      <th>2</th>\n",
       "      <td>JPMorgan Chase</td>\n",
       "      <td>United States</td>\n",
       "      <td>$136.2 B</td>\n",
       "      <td>$40.4 B</td>\n",
       "      <td>$3,689.3 B</td>\n",
       "      <td>$464.8 B</td>\n",
       "    </tr>\n",
       "    <tr>\n",
       "      <th>3</th>\n",
       "      <td>Berkshire Hathaway</td>\n",
       "      <td>United States</td>\n",
       "      <td>$245.5 B</td>\n",
       "      <td>$42.5 B</td>\n",
       "      <td>$873.7 B</td>\n",
       "      <td>$624.4 B</td>\n",
       "    </tr>\n",
       "    <tr>\n",
       "      <th>4</th>\n",
       "      <td>China Construction Bank</td>\n",
       "      <td>China</td>\n",
       "      <td>$173.5 B</td>\n",
       "      <td>$39.3 B</td>\n",
       "      <td>$4,301.7 B</td>\n",
       "      <td>$210.4 B</td>\n",
       "    </tr>\n",
       "    <tr>\n",
       "      <th>5</th>\n",
       "      <td>Saudi Arabian Oil Company (Saudi Aramco)</td>\n",
       "      <td>Saudi Arabia</td>\n",
       "      <td>$229.7 B</td>\n",
       "      <td>$49.3 B</td>\n",
       "      <td>$510.3 B</td>\n",
       "      <td>$1,897.2 B</td>\n",
       "    </tr>\n",
       "  </tbody>\n",
       "</table>\n",
       "</div>"
      ],
      "text/plain": [
       "                                          Name        Country     Sales  \\\n",
       "Rank                                                                      \n",
       "1                                         ICBC          China  $190.5 B   \n",
       "2                               JPMorgan Chase  United States  $136.2 B   \n",
       "3                           Berkshire Hathaway  United States  $245.5 B   \n",
       "4                      China Construction Bank          China  $173.5 B   \n",
       "5     Saudi Arabian Oil Company (Saudi Aramco)   Saudi Arabia  $229.7 B   \n",
       "\n",
       "       Profit      Assets Market Value  \n",
       "Rank                                    \n",
       "1     $45.8 B  $4,914.7 B     $249.5 B  \n",
       "2     $40.4 B  $3,689.3 B     $464.8 B  \n",
       "3     $42.5 B    $873.7 B     $624.4 B  \n",
       "4     $39.3 B  $4,301.7 B     $210.4 B  \n",
       "5     $49.3 B    $510.3 B   $1,897.2 B  "
      ]
     },
     "execution_count": 6,
     "metadata": {},
     "output_type": "execute_result"
    }
   ],
   "source": [
    "df.set_index('Rank', inplace=True)\n",
    "df.head()"
   ]
  },
  {
   "cell_type": "markdown",
   "metadata": {},
   "source": [
    "## Converting to Floats\n",
    "The `Sales`, `Profit`, `Assets`, and `Market Value` columns are all currently stored as strings and need to be converted to floats. I will keep the units in billions of dollars to ease the visualization process (axis formatting can be a pain)."
   ]
  },
  {
   "cell_type": "code",
   "execution_count": 7,
   "metadata": {
    "execution": {
     "iopub.execute_input": "2021-08-11T17:20:55.962535Z",
     "iopub.status.busy": "2021-08-11T17:20:55.961534Z",
     "iopub.status.idle": "2021-08-11T17:20:55.975535Z",
     "shell.execute_reply": "2021-08-11T17:20:55.974539Z",
     "shell.execute_reply.started": "2021-08-11T17:20:55.962535Z"
    },
    "tags": []
   },
   "outputs": [],
   "source": [
    "def converter(x):\n",
    "    converted = float(x[1:-2].replace(',', ''))\n",
    "    if x.endswith('M'):\n",
    "        converted /= 1000\n",
    "    return converted"
   ]
  },
  {
   "cell_type": "code",
   "execution_count": 8,
   "metadata": {
    "execution": {
     "iopub.execute_input": "2021-08-11T17:20:55.976537Z",
     "iopub.status.busy": "2021-08-11T17:20:55.976537Z",
     "iopub.status.idle": "2021-08-11T17:20:56.005537Z",
     "shell.execute_reply": "2021-08-11T17:20:56.004581Z",
     "shell.execute_reply.started": "2021-08-11T17:20:55.976537Z"
    },
    "tags": []
   },
   "outputs": [],
   "source": [
    "for col in df.columns[3:]:\n",
    "    df[col] = df[col].apply(converter)"
   ]
  },
  {
   "cell_type": "code",
   "execution_count": 9,
   "metadata": {
    "execution": {
     "iopub.execute_input": "2021-08-11T17:20:56.007538Z",
     "iopub.status.busy": "2021-08-11T17:20:56.007538Z",
     "iopub.status.idle": "2021-08-11T17:20:56.019534Z",
     "shell.execute_reply": "2021-08-11T17:20:56.019534Z",
     "shell.execute_reply.started": "2021-08-11T17:20:56.007538Z"
    },
    "tags": []
   },
   "outputs": [
    {
     "data": {
      "text/html": [
       "<div>\n",
       "<style scoped>\n",
       "    .dataframe tbody tr th:only-of-type {\n",
       "        vertical-align: middle;\n",
       "    }\n",
       "\n",
       "    .dataframe tbody tr th {\n",
       "        vertical-align: top;\n",
       "    }\n",
       "\n",
       "    .dataframe thead th {\n",
       "        text-align: right;\n",
       "    }\n",
       "</style>\n",
       "<table border=\"1\" class=\"dataframe\">\n",
       "  <thead>\n",
       "    <tr style=\"text-align: right;\">\n",
       "      <th></th>\n",
       "      <th>Name</th>\n",
       "      <th>Country</th>\n",
       "      <th>Sales</th>\n",
       "      <th>Profit</th>\n",
       "      <th>Assets</th>\n",
       "      <th>Market Value</th>\n",
       "    </tr>\n",
       "    <tr>\n",
       "      <th>Rank</th>\n",
       "      <th></th>\n",
       "      <th></th>\n",
       "      <th></th>\n",
       "      <th></th>\n",
       "      <th></th>\n",
       "      <th></th>\n",
       "    </tr>\n",
       "  </thead>\n",
       "  <tbody>\n",
       "    <tr>\n",
       "      <th>1</th>\n",
       "      <td>ICBC</td>\n",
       "      <td>China</td>\n",
       "      <td>$190.5 B</td>\n",
       "      <td>45.8</td>\n",
       "      <td>4914.7</td>\n",
       "      <td>249.5</td>\n",
       "    </tr>\n",
       "    <tr>\n",
       "      <th>2</th>\n",
       "      <td>JPMorgan Chase</td>\n",
       "      <td>United States</td>\n",
       "      <td>$136.2 B</td>\n",
       "      <td>40.4</td>\n",
       "      <td>3689.3</td>\n",
       "      <td>464.8</td>\n",
       "    </tr>\n",
       "    <tr>\n",
       "      <th>3</th>\n",
       "      <td>Berkshire Hathaway</td>\n",
       "      <td>United States</td>\n",
       "      <td>$245.5 B</td>\n",
       "      <td>42.5</td>\n",
       "      <td>873.7</td>\n",
       "      <td>624.4</td>\n",
       "    </tr>\n",
       "    <tr>\n",
       "      <th>4</th>\n",
       "      <td>China Construction Bank</td>\n",
       "      <td>China</td>\n",
       "      <td>$173.5 B</td>\n",
       "      <td>39.3</td>\n",
       "      <td>4301.7</td>\n",
       "      <td>210.4</td>\n",
       "    </tr>\n",
       "    <tr>\n",
       "      <th>5</th>\n",
       "      <td>Saudi Arabian Oil Company (Saudi Aramco)</td>\n",
       "      <td>Saudi Arabia</td>\n",
       "      <td>$229.7 B</td>\n",
       "      <td>49.3</td>\n",
       "      <td>510.3</td>\n",
       "      <td>1897.2</td>\n",
       "    </tr>\n",
       "  </tbody>\n",
       "</table>\n",
       "</div>"
      ],
      "text/plain": [
       "                                          Name        Country     Sales  \\\n",
       "Rank                                                                      \n",
       "1                                         ICBC          China  $190.5 B   \n",
       "2                               JPMorgan Chase  United States  $136.2 B   \n",
       "3                           Berkshire Hathaway  United States  $245.5 B   \n",
       "4                      China Construction Bank          China  $173.5 B   \n",
       "5     Saudi Arabian Oil Company (Saudi Aramco)   Saudi Arabia  $229.7 B   \n",
       "\n",
       "      Profit  Assets  Market Value  \n",
       "Rank                                \n",
       "1       45.8  4914.7         249.5  \n",
       "2       40.4  3689.3         464.8  \n",
       "3       42.5   873.7         624.4  \n",
       "4       39.3  4301.7         210.4  \n",
       "5       49.3   510.3        1897.2  "
      ]
     },
     "execution_count": 9,
     "metadata": {},
     "output_type": "execute_result"
    }
   ],
   "source": [
    "df.head()"
   ]
  },
  {
   "cell_type": "code",
   "execution_count": 10,
   "metadata": {
    "execution": {
     "iopub.execute_input": "2021-08-11T17:20:56.021538Z",
     "iopub.status.busy": "2021-08-11T17:20:56.021538Z",
     "iopub.status.idle": "2021-08-11T17:20:56.051559Z",
     "shell.execute_reply": "2021-08-11T17:20:56.051559Z",
     "shell.execute_reply.started": "2021-08-11T17:20:56.021538Z"
    },
    "tags": []
   },
   "outputs": [
    {
     "name": "stdout",
     "output_type": "stream",
     "text": [
      "<class 'pandas.core.frame.DataFrame'>\n",
      "Int64Index: 500 entries, 1 to 500\n",
      "Data columns (total 6 columns):\n",
      " #   Column        Non-Null Count  Dtype  \n",
      "---  ------        --------------  -----  \n",
      " 0   Name          500 non-null    object \n",
      " 1   Country       500 non-null    object \n",
      " 2   Sales         500 non-null    object \n",
      " 3   Profit        500 non-null    float64\n",
      " 4   Assets        500 non-null    float64\n",
      " 5   Market Value  500 non-null    float64\n",
      "dtypes: float64(3), object(3)\n",
      "memory usage: 27.3+ KB\n"
     ]
    }
   ],
   "source": [
    "df.info(0)"
   ]
  }
 ],
 "metadata": {
  "kernelspec": {
   "display_name": "learn-env",
   "language": "python",
   "name": "learn-env"
  },
  "language_info": {
   "codemirror_mode": {
    "name": "ipython",
    "version": 3
   },
   "file_extension": ".py",
   "mimetype": "text/x-python",
   "name": "python",
   "nbconvert_exporter": "python",
   "pygments_lexer": "ipython3",
   "version": "3.8.5"
  }
 },
 "nbformat": 4,
 "nbformat_minor": 4
}
