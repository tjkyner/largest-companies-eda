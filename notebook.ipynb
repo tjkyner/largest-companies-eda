{
 "cells": [
  {
   "cell_type": "markdown",
   "metadata": {},
   "source": [
    "# Overview\n",
    "This notebook represents my submission for the task on \"[The World's Biggest Companies 2021](https://www.kaggle.com/berkayalan/the-worlds-biggest-companies-2021)\" dataset. The description of the task is simply:\n",
    "> Create an EDA and show breakdowns of companies\n",
    "\n",
    "The [original source](https://www.forbes.com/lists/global2000/#242cc9bb5ac0) of the dataset is from Forbes, which ranks each of the companies according to the following equally-weighted metrics:\n",
    "- Sales\n",
    "- Profit\n",
    "- Assets\n",
    "- Market Value\n",
    "\n",
    "Let's dive in!"
   ]
  },
  {
   "cell_type": "markdown",
   "metadata": {},
   "source": [
    "# Imports & Settings"
   ]
  },
  {
   "cell_type": "code",
   "execution_count": 1,
   "metadata": {
    "execution": {
     "iopub.execute_input": "2021-08-11T16:59:09.162355Z",
     "iopub.status.busy": "2021-08-11T16:59:09.162355Z",
     "iopub.status.idle": "2021-08-11T16:59:10.163086Z",
     "shell.execute_reply": "2021-08-11T16:59:10.163086Z",
     "shell.execute_reply.started": "2021-08-11T16:59:09.162355Z"
    }
   },
   "outputs": [],
   "source": [
    "# Standard imports\n",
    "import numpy as np\n",
    "import pandas as pd\n",
    "\n",
    "# Visualization tools\n",
    "import seaborn as sns\n",
    "import matplotlib.pyplot as plt\n",
    "%matplotlib inline"
   ]
  },
  {
   "cell_type": "code",
   "execution_count": 2,
   "metadata": {
    "execution": {
     "iopub.execute_input": "2021-08-11T16:59:10.165088Z",
     "iopub.status.busy": "2021-08-11T16:59:10.164081Z",
     "iopub.status.idle": "2021-08-11T16:59:10.178081Z",
     "shell.execute_reply": "2021-08-11T16:59:10.178081Z",
     "shell.execute_reply.started": "2021-08-11T16:59:10.164081Z"
    }
   },
   "outputs": [],
   "source": [
    "sns.set_theme(style='darkgrid')"
   ]
  },
  {
   "cell_type": "markdown",
   "metadata": {},
   "source": [
    "# EDA\n",
    "## Previewing Data"
   ]
  },
  {
   "cell_type": "code",
   "execution_count": 3,
   "metadata": {
    "execution": {
     "iopub.execute_input": "2021-08-11T16:59:10.180053Z",
     "iopub.status.busy": "2021-08-11T16:59:10.179084Z",
     "iopub.status.idle": "2021-08-11T16:59:10.210084Z",
     "shell.execute_reply": "2021-08-11T16:59:10.209084Z",
     "shell.execute_reply.started": "2021-08-11T16:59:10.180053Z"
    }
   },
   "outputs": [
    {
     "data": {
      "text/html": [
       "<div>\n",
       "<style scoped>\n",
       "    .dataframe tbody tr th:only-of-type {\n",
       "        vertical-align: middle;\n",
       "    }\n",
       "\n",
       "    .dataframe tbody tr th {\n",
       "        vertical-align: top;\n",
       "    }\n",
       "\n",
       "    .dataframe thead th {\n",
       "        text-align: right;\n",
       "    }\n",
       "</style>\n",
       "<table border=\"1\" class=\"dataframe\">\n",
       "  <thead>\n",
       "    <tr style=\"text-align: right;\">\n",
       "      <th></th>\n",
       "      <th>Rank</th>\n",
       "      <th>Name</th>\n",
       "      <th>Country</th>\n",
       "      <th>Sales</th>\n",
       "      <th>Profit</th>\n",
       "      <th>Assets</th>\n",
       "      <th>Market Value</th>\n",
       "    </tr>\n",
       "  </thead>\n",
       "  <tbody>\n",
       "    <tr>\n",
       "      <th>0</th>\n",
       "      <td>1</td>\n",
       "      <td>ICBC</td>\n",
       "      <td>China</td>\n",
       "      <td>$190.5 B</td>\n",
       "      <td>$45.8 B</td>\n",
       "      <td>$4,914.7 B</td>\n",
       "      <td>$249.5 B</td>\n",
       "    </tr>\n",
       "    <tr>\n",
       "      <th>1</th>\n",
       "      <td>2</td>\n",
       "      <td>JPMorgan Chase</td>\n",
       "      <td>United States</td>\n",
       "      <td>$136.2 B</td>\n",
       "      <td>$40.4 B</td>\n",
       "      <td>$3,689.3 B</td>\n",
       "      <td>$464.8 B</td>\n",
       "    </tr>\n",
       "    <tr>\n",
       "      <th>2</th>\n",
       "      <td>3</td>\n",
       "      <td>Berkshire Hathaway</td>\n",
       "      <td>United States</td>\n",
       "      <td>$245.5 B</td>\n",
       "      <td>$42.5 B</td>\n",
       "      <td>$873.7 B</td>\n",
       "      <td>$624.4 B</td>\n",
       "    </tr>\n",
       "    <tr>\n",
       "      <th>3</th>\n",
       "      <td>4</td>\n",
       "      <td>China Construction Bank</td>\n",
       "      <td>China</td>\n",
       "      <td>$173.5 B</td>\n",
       "      <td>$39.3 B</td>\n",
       "      <td>$4,301.7 B</td>\n",
       "      <td>$210.4 B</td>\n",
       "    </tr>\n",
       "    <tr>\n",
       "      <th>4</th>\n",
       "      <td>5</td>\n",
       "      <td>Saudi Arabian Oil Company (Saudi Aramco)</td>\n",
       "      <td>Saudi Arabia</td>\n",
       "      <td>$229.7 B</td>\n",
       "      <td>$49.3 B</td>\n",
       "      <td>$510.3 B</td>\n",
       "      <td>$1,897.2 B</td>\n",
       "    </tr>\n",
       "  </tbody>\n",
       "</table>\n",
       "</div>"
      ],
      "text/plain": [
       "   Rank                                      Name        Country     Sales  \\\n",
       "0     1                                      ICBC          China  $190.5 B   \n",
       "1     2                            JPMorgan Chase  United States  $136.2 B   \n",
       "2     3                        Berkshire Hathaway  United States  $245.5 B   \n",
       "3     4                   China Construction Bank          China  $173.5 B   \n",
       "4     5  Saudi Arabian Oil Company (Saudi Aramco)   Saudi Arabia  $229.7 B   \n",
       "\n",
       "    Profit      Assets Market Value  \n",
       "0  $45.8 B  $4,914.7 B     $249.5 B  \n",
       "1  $40.4 B  $3,689.3 B     $464.8 B  \n",
       "2  $42.5 B    $873.7 B     $624.4 B  \n",
       "3  $39.3 B  $4,301.7 B     $210.4 B  \n",
       "4  $49.3 B    $510.3 B   $1,897.2 B  "
      ]
     },
     "execution_count": 3,
     "metadata": {},
     "output_type": "execute_result"
    }
   ],
   "source": [
    "df = pd.read_csv('data.csv', delimiter=';')\n",
    "df.head()"
   ]
  },
  {
   "cell_type": "code",
   "execution_count": 4,
   "metadata": {
    "execution": {
     "iopub.execute_input": "2021-08-11T16:59:10.211081Z",
     "iopub.status.busy": "2021-08-11T16:59:10.211081Z",
     "iopub.status.idle": "2021-08-11T16:59:10.226052Z",
     "shell.execute_reply": "2021-08-11T16:59:10.225054Z",
     "shell.execute_reply.started": "2021-08-11T16:59:10.211081Z"
    }
   },
   "outputs": [
    {
     "name": "stdout",
     "output_type": "stream",
     "text": [
      "<class 'pandas.core.frame.DataFrame'>\n",
      "RangeIndex: 500 entries, 0 to 499\n",
      "Data columns (total 7 columns):\n",
      " #   Column        Non-Null Count  Dtype \n",
      "---  ------        --------------  ----- \n",
      " 0   Rank          500 non-null    int64 \n",
      " 1   Name          500 non-null    object\n",
      " 2   Country       500 non-null    object\n",
      " 3   Sales         500 non-null    object\n",
      " 4   Profit        500 non-null    object\n",
      " 5   Assets        500 non-null    object\n",
      " 6   Market Value  500 non-null    object\n",
      "dtypes: int64(1), object(6)\n",
      "memory usage: 27.5+ KB\n"
     ]
    }
   ],
   "source": [
    "df.info()"
   ]
  },
  {
   "cell_type": "code",
   "execution_count": 5,
   "metadata": {
    "execution": {
     "iopub.execute_input": "2021-08-11T16:59:10.227051Z",
     "iopub.status.busy": "2021-08-11T16:59:10.227051Z",
     "iopub.status.idle": "2021-08-11T16:59:10.242051Z",
     "shell.execute_reply": "2021-08-11T16:59:10.241052Z",
     "shell.execute_reply.started": "2021-08-11T16:59:10.227051Z"
    },
    "tags": []
   },
   "outputs": [
    {
     "data": {
      "text/plain": [
       "Rank            0\n",
       "Name            0\n",
       "Country         0\n",
       "Sales           0\n",
       "Profit          0\n",
       "Assets          0\n",
       "Market Value    0\n",
       "dtype: int64"
      ]
     },
     "execution_count": 5,
     "metadata": {},
     "output_type": "execute_result"
    }
   ],
   "source": [
    "df.isna().sum()"
   ]
  }
 ],
 "metadata": {
  "kernelspec": {
   "display_name": "learn-env",
   "language": "python",
   "name": "learn-env"
  },
  "language_info": {
   "codemirror_mode": {
    "name": "ipython",
    "version": 3
   },
   "file_extension": ".py",
   "mimetype": "text/x-python",
   "name": "python",
   "nbconvert_exporter": "python",
   "pygments_lexer": "ipython3",
   "version": "3.8.5"
  }
 },
 "nbformat": 4,
 "nbformat_minor": 4
}
